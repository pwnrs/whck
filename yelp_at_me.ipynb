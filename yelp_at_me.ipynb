{
 "cells": [
  {
   "cell_type": "markdown",
   "metadata": {},
   "source": [
    "For our final project our group proproses a \n",
    "\n",
    "Our data product allows users to input an address and find the top six restaurants from the inputted form. Through investigative methodologies, we were able to discover that the way that Yelp returns its list of restaurant is very blackboxed--existence of reviews, reviews by 'elite' Yelp members, check-ins via smartphone, etc. We wanted to present to users a more transparent way of choosing businesses that they may want to go to without using Yelp's method of choosing bigger businesses. In order to determine the top six restaurants in an area, our group wrote an algorithm that ranks restaurants based on X,Y, AND Z. \n",
    "\n",
    "Our home page at pwnrs.herokuapp.com/yelp renders the form for users to search based on their desired location. Upon clicking the 'Find a Restaurant' button, a new page is rendered in which our top 6 restuarants are displayed in a grid with the accompanying image url that we parsed from the API. \n",
    "\n",
    "Below the restaurant grid, we graph the distribution of the ratings of restaurants in that specific location with a (())."
   ]
  },
  {
   "cell_type": "code",
   "execution_count": null,
   "metadata": {
    "collapsed": true
   },
   "outputs": [],
   "source": [
    "# imports for our Flask Application\n",
    "from flask import Flask\n",
    "from flask import render_template\n",
    "from flask_sqlalchemy import SQLAlchemy\n",
    "from flask import request\n",
    "from flask import redirect\n",
    "\n",
    "import matplotlib\n",
    "matplotlib.use('Agg')\n",
    "\n",
    "import os\n",
    "import scrapy\n",
    "import api_helper\n",
    "import urllib.parse as urlparse\n",
    "import psycopg2\n",
    "\n",
    "import sys                             # system module\n",
    "import pandas as pd                    # data package\n",
    "import matplotlib.pyplot as plt, mpld3        # graphics module\n",
    "import numpy as np                     # foundation for Pandas"
   ]
  },
  {
   "cell_type": "code",
   "execution_count": null,
   "metadata": {
    "collapsed": true
   },
   "outputs": [],
   "source": [
    "# set directory names for our templating and static files\n",
    "app = Flask(\n",
    "    __name__,\n",
    "    template_folder=\"templates\",\n",
    "    static_folder=\"static\"\n",
    ")"
   ]
  },
  {
   "cell_type": "markdown",
   "metadata": {},
   "source": [
    "Below we have our Location Data Model which shows how we format our data in our database. JEREMY ADD MORE"
   ]
  },
  {
   "cell_type": "code",
   "execution_count": null,
   "metadata": {
    "collapsed": true
   },
   "outputs": [],
   "source": [
    "# config for DB schematics\n",
    "app.config['SQLALCHEMY_DATABASE_URI'] = os.environ['DATABASE_URL']\n",
    "app.config['SQLALCHEMY_TRACK_MODIFICATIONS'] = False\n",
    "db = SQLAlchemy(app)\n",
    "\n",
    "\n",
    "# Locaiton data model\n",
    "class Location(db.Model):\n",
    "    \"\"\"docstring for Location.\"\"\"\n",
    "    id = db.Column(db.Integer, primary_key=True)\n",
    "    location = db.Column(db.Text, nullable=False)\n",
    "\n",
    "    def __init__(self, location):\n",
    "        self.location = location\n",
    "\n",
    "    def __repr__(self):\n",
    "        return '<Location %s>' % self.location\n",
    "\n",
    "    def __str__(self):\n",
    "        return '%s' % self.location\n"
   ]
  },
  {
   "cell_type": "code",
   "execution_count": null,
   "metadata": {
    "collapsed": true
   },
   "outputs": [],
   "source": [
    "\n",
    "# \n",
    "@app.route('/')\n",
    "def home():\n",
    "    top_10 = scrapy.scrap()\n",
    "    df = pd.DataFrame.from_dict(top_10, orient='index')\n",
    "    fig = plt.figure()\n",
    "    plt.bar(\n",
    "        x=np.arange(len(df.index)),\n",
    "        height=df[0],\n",
    "        align='center',\n",
    "        alpha=0.5,\n",
    "        tick_label=df.index,\n",
    "    )\n",
    "    return render_template('index.html', data=mpld3.fig_to_html(fig))\n",
    "\n",
    "\n",
    "# router to main page of our application\n",
    "@app.route('/yelp', methods=['POST', 'GET'])\n",
    "def yelp():\n",
    "    \n",
    "    #  if a post request is issued   \n",
    "    if request.method == 'POST':\n",
    "        if request.form:\n",
    "\n",
    "            # get form data from user input\n",
    "            address = request.form['address']\n",
    "            city = request.form['city']\n",
    "            state = request.form['state']\n",
    "            zipcode = request.form['zip']\n",
    "\n",
    "            # final address string\n",
    "            final_add = address + ' ' + city + ' ' + state + ' ' + zipcode\n",
    "\n",
    "            # strip off empty spaces\n",
    "            final_add = final_add.strip()\n",
    "\n",
    "            # send a GET request to the YELP api with the locaiton\n",
    "            response = api_helper.get_food_at_location(final_add)\n",
    "\n",
    "            # add to database is Response from API is valid\n",
    "            if response != None and response.status_code == 200:\n",
    "\n",
    "                # add address input by user to DB\n",
    "                add_location_to_db(final_add)\n",
    "\n",
    "                # parse response to json\n",
    "                final_stuff = response.json()\n",
    "                businesses = final_stuff['businesses']\n",
    "\n",
    "                # get top 6 businesses to display\n",
    "                top_six = get_n_businesses(6, businesses)\n",
    "\n",
    "                # render html page w/ jinja templating\n",
    "                return render_template('yelp.html', top_six=top_six)\n",
    "            return render_template('yelp.html')\n",
    "    else:\n",
    "        # render template if request is not POST        \n",
    "        return render_template('yelp.html')\n",
    "\n",
    "\n",
    "# helper function for getting n business from YELP response\n",
    "def get_n_businesses(n, businesses):\n",
    "    # array storage for businesses\n",
    "    top_n = []\n",
    "    \n",
    "    # get name, url, img_url, rating, and price from each business\n",
    "    for business in businesses[:n]:\n",
    "        one_business = {}\n",
    "        one_business['name'] = business['name']\n",
    "        one_business['url'] = business['url']\n",
    "        one_business['img_url'] = business['image_url']\n",
    "        one_business['rating'] = business['rating']\n",
    "        one_business['price'] = business['price']\n",
    "        top_six.append(one_business)\n",
    "\n",
    "    # return array of businesses\n",
    "    return top_n\n",
    "\n",
    "# helper function for adding location to DB\n",
    "def add_location_to_db(address):\n",
    "    location = Location(address)\n",
    "    db.session.add(location)\n",
    "    db.session.commit()\n",
    "\n",
    "# get the locations with the most searches\n",
    "def get_frequent_locations(num_locations):\n",
    "    locations = db.session.query(Location.location, db.func.count(Location.location).label('Searches'))\\\n",
    "        .group_by(Location.location)\\\n",
    "        .order_by(db.desc('Searches'))\\\n",
    "        .limit(num_locations)\\\n",
    "        .all()\n",
    "    return locations\n",
    "\n",
    "\n",
    "# debugger for testing the application\n",
    "if __name__ == '__main__':\n",
    "    app.run(debug=True)\n"
   ]
  }
 ],
 "metadata": {
  "kernelspec": {
   "display_name": "Python 3",
   "language": "python",
   "name": "python3"
  },
  "language_info": {
   "codemirror_mode": {
    "name": "ipython",
    "version": 3
   },
   "file_extension": ".py",
   "mimetype": "text/x-python",
   "name": "python",
   "nbconvert_exporter": "python",
   "pygments_lexer": "ipython3",
   "version": "3.5.2"
  }
 },
 "nbformat": 4,
 "nbformat_minor": 2
}
